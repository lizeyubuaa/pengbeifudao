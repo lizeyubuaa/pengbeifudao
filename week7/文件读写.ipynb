{
 "cells": [
  {
   "cell_type": "code",
   "execution_count": 1,
   "outputs": [
    {
     "name": "stdout",
     "text": [
      "<class '_io.TextIOWrapper'>\n[1, \"str\", [1, \"str\"]]addwas called\n\n<class 'str'>\n"
     ],
     "output_type": "stream"
    }
   ],
   "source": [
    "with open('output.txt',mode='r', encoding='utf-8') as f:\n",
    "    print(type(f))\n",
    "    file = f.read()  # int 是读取的字符个数，默认为全部的字符。返回字符串。\n",
    "    print(file)\n",
    "    file = f.read()\n",
    "    print(file)\n",
    "    print(type(f.read()))"
   ],
   "metadata": {
    "collapsed": false,
    "pycharm": {
     "name": "#%%\n",
     "is_executing": false
    }
   }
  },
  {
   "cell_type": "code",
   "execution_count": 2,
   "outputs": [
    {
     "name": "stdout",
     "text": [
      "<class 'str'>\n[1, \"str\", [1, \"str\"]]\n\n"
     ],
     "output_type": "stream"
    }
   ],
   "source": [
    "with open('output.txt',mode='r', encoding='utf-8') as f:\n",
    "    line = f.readline()\n",
    "    print(type(f.readline()))\n",
    "    print(line)\n",
    "    line = f.readline()\n",
    "    print(line)"
   ],
   "metadata": {
    "collapsed": false,
    "pycharm": {
     "name": "#%%\n",
     "is_executing": false
    }
   }
  },
  {
   "cell_type": "code",
   "execution_count": 4,
   "outputs": [
    {
     "name": "stdout",
     "text": [
      "<class 'list'>\n['[1, \"str\", [1, \"str\"]]']\n"
     ],
     "output_type": "stream"
    }
   ],
   "source": [
    "with open('output.txt',mode='r', encoding='utf-8') as f:\n",
    "    print(type(f.readlines()))\n",
    "    f.seek(0,0)\n",
    "    print(f.readlines())\n",
    "    for line in f:\n",
    "        print(type(line))\n",
    "        print(line,end='')\n",
    "    "
   ],
   "metadata": {
    "collapsed": false,
    "pycharm": {
     "name": "#%%\n",
     "is_executing": false
    }
   }
  },
  {
   "cell_type": "code",
   "execution_count": 44,
   "outputs": [
    {
     "name": "stdout",
     "text": [
      "['addwas called']\n[]\n"
     ],
     "output_type": "stream"
    }
   ],
   "source": [
    "with open('output.txt',mode='r', encoding='utf-8') as f:\n",
    "    print(list(f))\n",
    "    for item in list(f):\n",
    "        print(item)\n",
    "    print(list(f))"
   ],
   "metadata": {
    "collapsed": false,
    "pycharm": {
     "name": "#%%\n",
     "is_executing": false
    }
   }
  },
  {
   "cell_type": "code",
   "execution_count": 45,
   "outputs": [
    {
     "name": "stdout",
     "text": [
      "['addwas called']\n"
     ],
     "output_type": "stream"
    }
   ],
   "source": [
    "with open('output.txt',mode='r', encoding='utf-8') as f:\n",
    "    lines = f.readlines()\n",
    "    print(lines)"
   ],
   "metadata": {
    "collapsed": false,
    "pycharm": {
     "name": "#%%\n",
     "is_executing": false
    }
   }
  },
  {
   "cell_type": "code",
   "execution_count": 75,
   "outputs": [
    {
     "name": "stdout",
     "text": [
      "addwas calledthis is i want to addthis is i want to addthis is i want to addthis is i want to addthis is i want to addthis is i want to addthis is i want to addthis is i want to addthis is i want to addthis is i want to addthis is i want to addthis is i want to add\nthis is i want to add\nthis is i want to add\nthis is i want to add\nthis is i want to add\nthis is i want to add\nthis is i want to add\nthis is i want to add\nthis is i want to add\nthis is i want to add\nthis is i want to add\nthis is i want to add\nthis is i want to add\nthis is i want to add\nthis is i want to add\nthis is i want to add\nthis is i want to add\nthis is i want to add\nthis is i want to add\n679\n"
     ],
     "output_type": "stream"
    },
    {
     "traceback": [
      "\u001b[1;31m---------------------------------------------------------------------------\u001b[0m",
      "\u001b[1;31mUnsupportedOperation\u001b[0m                      Traceback (most recent call last)",
      "\u001b[1;32m<ipython-input-75-c7545f1136ff>\u001b[0m in \u001b[0;36m<module>\u001b[1;34m\u001b[0m\n\u001b[0;32m      4\u001b[0m     \u001b[0mprint\u001b[0m\u001b[1;33m(\u001b[0m\u001b[0mf\u001b[0m\u001b[1;33m.\u001b[0m\u001b[0mread\u001b[0m\u001b[1;33m(\u001b[0m\u001b[1;33m)\u001b[0m\u001b[1;33m)\u001b[0m\u001b[1;33m\u001b[0m\u001b[0m\n\u001b[0;32m      5\u001b[0m     \u001b[0mprint\u001b[0m\u001b[1;33m(\u001b[0m\u001b[0mf\u001b[0m\u001b[1;33m.\u001b[0m\u001b[0mtell\u001b[0m\u001b[1;33m(\u001b[0m\u001b[1;33m)\u001b[0m\u001b[1;33m)\u001b[0m\u001b[1;33m\u001b[0m\u001b[0m\n\u001b[1;32m----> 6\u001b[1;33m     \u001b[0mf\u001b[0m\u001b[1;33m.\u001b[0m\u001b[0mseek\u001b[0m\u001b[1;33m(\u001b[0m\u001b[1;36m5\u001b[0m\u001b[1;33m,\u001b[0m\u001b[1;36m1\u001b[0m\u001b[1;33m)\u001b[0m\u001b[1;33m\u001b[0m\u001b[0m\n\u001b[0m\u001b[0;32m      7\u001b[0m     \u001b[0mprint\u001b[0m\u001b[1;33m(\u001b[0m\u001b[0mf\u001b[0m\u001b[1;33m.\u001b[0m\u001b[0mtell\u001b[0m\u001b[1;33m(\u001b[0m\u001b[1;33m)\u001b[0m\u001b[1;33m)\u001b[0m\u001b[1;33m\u001b[0m\u001b[0m\n",
      "\u001b[1;31mUnsupportedOperation\u001b[0m: can't do nonzero cur-relative seeks"
     ],
     "ename": "UnsupportedOperation",
     "evalue": "can't do nonzero cur-relative seeks",
     "output_type": "error"
    }
   ],
   "source": [
    "with open('output.txt',mode='a+', encoding='utf-8') as f:\n",
    "    f.write(\"\\nthis is i want to add\")\n",
    "with open('output.txt',mode='r', encoding='utf-8') as f:\n",
    "    print(f.read())\n",
    "    print(f.tell())\n",
    "    f.seek(5,1)\n",
    "    print(f.tell())"
   ],
   "metadata": {
    "collapsed": false,
    "pycharm": {
     "name": "#%%\n",
     "is_executing": false
    }
   }
  }
 ],
 "metadata": {
  "language_info": {
   "codemirror_mode": {
    "name": "ipython",
    "version": 2
   },
   "file_extension": ".py",
   "mimetype": "text/x-python",
   "name": "python",
   "nbconvert_exporter": "python",
   "pygments_lexer": "ipython2",
   "version": "2.7.6"
  },
  "kernelspec": {
   "name": "python3",
   "language": "python",
   "display_name": "Python 3"
  },
  "pycharm": {
   "stem_cell": {
    "cell_type": "raw",
    "source": [],
    "metadata": {
     "collapsed": false
    }
   }
  }
 },
 "nbformat": 4,
 "nbformat_minor": 0
}