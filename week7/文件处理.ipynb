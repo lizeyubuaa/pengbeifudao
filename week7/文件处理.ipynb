{
 "cells": [
  {
   "cell_type": "code",
   "execution_count": 2,
   "metadata": {
    "collapsed": true,
    "pycharm": {
     "is_executing": false
    }
   },
   "outputs": [
    {
     "name": "stdout",
     "text": [
      "[1, \"str\", [1, \"str\"]]\n[1, 'str', [1, 'str']]\n"
     ],
     "output_type": "stream"
    }
   ],
   "source": [
    "import json\n",
    "x = [1, 'str', (1, 'str')]\n",
    "js = json.dumps(x)\n",
    "print(js)\n",
    "print(json.loads(js))"
   ]
  },
  {
   "cell_type": "code",
   "execution_count": 5,
   "outputs": [
    {
     "data": {
      "text/plain": "'[1, \"str\"]'"
     },
     "metadata": {},
     "output_type": "execute_result",
     "execution_count": 5
    }
   ],
   "source": [
    "y = [1, 'str']\n",
    "json.dumps(y)"
   ],
   "metadata": {
    "collapsed": false,
    "pycharm": {
     "name": "#%%\n",
     "is_executing": false
    }
   }
  },
  {
   "cell_type": "code",
   "execution_count": 120,
   "outputs": [
    {
     "name": "stdout",
     "text": [
      "{\n    \"a\": \"Runoob\",\n    \"b\": 7\n}\n"
     ],
     "output_type": "stream"
    }
   ],
   "source": [
    "print(json.dumps({'a': 'Runoob', 'b': 7}, sort_keys=True, indent=4, separators=(',', ': ')))\n",
    "# 传入调整格式的一些参数"
   ],
   "metadata": {
    "collapsed": false,
    "pycharm": {
     "name": "#%%\n",
     "is_executing": false
    }
   }
  },
  {
   "cell_type": "code",
   "execution_count": 118,
   "outputs": [
    {
     "name": "stdout",
     "text": [
      "<class 'str'>\n"
     ],
     "output_type": "stream"
    }
   ],
   "source": [
    "print(type(json.dumps(y)))"
   ],
   "metadata": {
    "collapsed": false,
    "pycharm": {
     "name": "#%%\n",
     "is_executing": false
    }
   }
  },
  {
   "cell_type": "code",
   "execution_count": 3,
   "outputs": [
    {
     "name": "stdout",
     "text": [
      "[1, 'str', (1, 'str')]\n[1, \"str\", [1, \"str\"]]\n[1, 'str', [1, 'str']]\n"
     ],
     "output_type": "stream"
    }
   ],
   "source": [
    "with open('output.txt',mode='w+', encoding='utf-8') as f:\n",
    "    print(x)\n",
    "    json.dump(x,f)\n",
    "    f.seek(0,0)\n",
    "    print(f.read())\n",
    "    f.seek(0,0)\n",
    "    js = json.load(f)\n",
    "    print(js)"
   ],
   "metadata": {
    "collapsed": false,
    "pycharm": {
     "name": "#%%\n",
     "is_executing": false
    }
   }
  },
  {
   "cell_type": "code",
   "execution_count": 121,
   "outputs": [
    {
     "name": "stdout",
     "text": [
      "[1, 'str', [1, 'str']]\n"
     ],
     "output_type": "stream"
    }
   ],
   "source": [
    "with open('output.txt',mode='r+', encoding='utf-8') as f:\n",
    "    js = json.load(f)\n",
    "    print(js)"
   ],
   "metadata": {
    "collapsed": false,
    "pycharm": {
     "name": "#%%\n",
     "is_executing": false
    }
   }
  },
  {
   "cell_type": "code",
   "execution_count": 130,
   "outputs": [
    {
     "name": "stdout",
     "text": [
      "[{\"a\":1,\"b\":2,\"c\":3,\"d\":4,\"e\":5}] \n [{\"a\": 1, \"b\": 2, \"c\": 3, \"d\": 4, \"e\": 5}]\n"
     ],
     "output_type": "stream"
    }
   ],
   "source": [
    "import demjson\n",
    "import json\n",
    "data = [ { 'a' : 1, 'b' : 2, 'c' : 3, 'd' : 4, 'e' : 5 } ]\n",
    "\n",
    "json_n = demjson.encode(data)\n",
    "json_m = json.dumps(data)\n",
    "print(json_n,'\\n',json_m)"
   ],
   "metadata": {
    "collapsed": false,
    "pycharm": {
     "name": "#%%\n",
     "is_executing": false
    }
   }
  },
  {
   "cell_type": "code",
   "execution_count": 131,
   "outputs": [
    {
     "name": "stdout",
     "text": [
      "Original: [{\"aa\": 1, \"bb\": 2, \"cc\": 3}, [1, 2, 3, 4], \"hello world\", 0.5, 100, null, true]\nSort Keys: [{\"aa\": 1, \"bb\": 2, \"cc\": 3}, [1, 2, 3, 4], \"hello world\", 0.5, 100, null, true]\nIndent: [\n    {\n        \"aa\": 1,\n        \"bb\": 2,\n        \"cc\": 3\n    },\n    [\n        1,\n        2,\n        3,\n        4\n    ],\n    \"hello world\",\n    0.5,\n    100,\n    null,\n    true\n]\nSeparators: [{\"aa\":1,\"bb\":2,\"cc\":3},[1,2,3,4],\"hello world\",0.5,100,null,true]\n"
     ],
     "output_type": "stream"
    }
   ],
   "source": [
    "import json as js\n",
    "\n",
    "obj = [{'aa': 1, 'bb': 2, 'cc': 3},\n",
    "       (1, 2, 3, 4), 'hello world', 0.5, 100, None, True]\n",
    "print('Original:', js.dumps(obj))\n",
    "print('Sort Keys:', js.dumps(obj, sort_keys=True))\n",
    "print('Indent:', js.dumps(obj, indent=4))\n",
    "print('Separators:', js.dumps(obj, separators=(',', ':')))\n",
    "\n",
    "\n"
   ],
   "metadata": {
    "collapsed": false,
    "pycharm": {
     "name": "#%%\n",
     "is_executing": false
    }
   }
  }
 ],
 "metadata": {
  "language_info": {
   "codemirror_mode": {
    "name": "ipython",
    "version": 2
   },
   "file_extension": ".py",
   "mimetype": "text/x-python",
   "name": "python",
   "nbconvert_exporter": "python",
   "pygments_lexer": "ipython2",
   "version": "2.7.6"
  },
  "kernelspec": {
   "name": "python3",
   "language": "python",
   "display_name": "Python 3"
  },
  "pycharm": {
   "stem_cell": {
    "cell_type": "raw",
    "source": [],
    "metadata": {
     "collapsed": false
    }
   }
  }
 },
 "nbformat": 4,
 "nbformat_minor": 0
}